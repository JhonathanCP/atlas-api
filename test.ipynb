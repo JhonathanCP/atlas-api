{
 "cells": [
  {
   "cell_type": "code",
   "execution_count": 1,
   "metadata": {},
   "outputs": [],
   "source": [
    "import decouple\n",
    "from sqlalchemy import create_engine\n",
    "import pandas as pd\n",
    "from datetime import datetime, timedelta\n",
    "import time \n",
    "from datetime import datetime\n",
    "from sqlalchemy import text\n",
    "import oracledb\n",
    "import sys"
   ]
  },
  {
   "cell_type": "code",
   "execution_count": 77,
   "metadata": {},
   "outputs": [],
   "source": [
    "#CONEXIONES\n",
    "config = decouple.AutoConfig(' ')\n",
    "DB_USER=config(\"USER2_BDI_POSTGRES\")\n",
    "DB_PASSWORD=config(\"PASS2_BDI_POSTGRES\")\n",
    "DB_NAME=\"dl_essi\"\n",
    "DB_PORT=\"5432\"\n",
    "DB_HOST=config(\"HOST2_BDI_POSTGRES\")\n",
    "cadena1  = f\"postgresql://{DB_USER}:{DB_PASSWORD}@{DB_HOST}:{DB_PORT}/{DB_NAME}\"\n",
    "engine1 = create_engine(cadena1)\n",
    "connection1 = engine1.connect()"
   ]
  },
  {
   "cell_type": "code",
   "execution_count": 105,
   "metadata": {},
   "outputs": [],
   "source": [
    "columns = pd.read_sql_query(\"select * from information_schema.tables where table_schema != 'pg_catalog' and table_schema != 'information_schema'\", con= connection1)"
   ]
  },
  {
   "cell_type": "code",
   "execution_count": 96,
   "metadata": {},
   "outputs": [
    {
     "data": {
      "text/html": [
       "<div>\n",
       "<style scoped>\n",
       "    .dataframe tbody tr th:only-of-type {\n",
       "        vertical-align: middle;\n",
       "    }\n",
       "\n",
       "    .dataframe tbody tr th {\n",
       "        vertical-align: top;\n",
       "    }\n",
       "\n",
       "    .dataframe thead th {\n",
       "        text-align: right;\n",
       "    }\n",
       "</style>\n",
       "<table border=\"1\" class=\"dataframe\">\n",
       "  <thead>\n",
       "    <tr style=\"text-align: right;\">\n",
       "      <th></th>\n",
       "      <th>table_catalog</th>\n",
       "      <th>table_schema</th>\n",
       "      <th>table_name</th>\n",
       "      <th>table_type</th>\n",
       "      <th>self_referencing_column_name</th>\n",
       "      <th>reference_generation</th>\n",
       "      <th>user_defined_type_catalog</th>\n",
       "      <th>user_defined_type_schema</th>\n",
       "      <th>user_defined_type_name</th>\n",
       "      <th>is_insertable_into</th>\n",
       "      <th>is_typed</th>\n",
       "      <th>commit_action</th>\n",
       "    </tr>\n",
       "  </thead>\n",
       "  <tbody>\n",
       "    <tr>\n",
       "      <th>0</th>\n",
       "      <td>dl_essi</td>\n",
       "      <td>public</td>\n",
       "      <td>ftsma10</td>\n",
       "      <td>BASE TABLE</td>\n",
       "      <td>None</td>\n",
       "      <td>None</td>\n",
       "      <td>None</td>\n",
       "      <td>None</td>\n",
       "      <td>None</td>\n",
       "      <td>YES</td>\n",
       "      <td>NO</td>\n",
       "      <td>None</td>\n",
       "    </tr>\n",
       "    <tr>\n",
       "      <th>1</th>\n",
       "      <td>dl_essi</td>\n",
       "      <td>public</td>\n",
       "      <td>cbeci10</td>\n",
       "      <td>BASE TABLE</td>\n",
       "      <td>None</td>\n",
       "      <td>None</td>\n",
       "      <td>None</td>\n",
       "      <td>None</td>\n",
       "      <td>None</td>\n",
       "      <td>YES</td>\n",
       "      <td>NO</td>\n",
       "      <td>None</td>\n",
       "    </tr>\n",
       "    <tr>\n",
       "      <th>2</th>\n",
       "      <td>dl_essi</td>\n",
       "      <td>public</td>\n",
       "      <td>cbecv10</td>\n",
       "      <td>BASE TABLE</td>\n",
       "      <td>None</td>\n",
       "      <td>None</td>\n",
       "      <td>None</td>\n",
       "      <td>None</td>\n",
       "      <td>None</td>\n",
       "      <td>YES</td>\n",
       "      <td>NO</td>\n",
       "      <td>None</td>\n",
       "    </tr>\n",
       "    <tr>\n",
       "      <th>3</th>\n",
       "      <td>dl_essi</td>\n",
       "      <td>public</td>\n",
       "      <td>hbmin10</td>\n",
       "      <td>BASE TABLE</td>\n",
       "      <td>None</td>\n",
       "      <td>None</td>\n",
       "      <td>None</td>\n",
       "      <td>None</td>\n",
       "      <td>None</td>\n",
       "      <td>YES</td>\n",
       "      <td>NO</td>\n",
       "      <td>None</td>\n",
       "    </tr>\n",
       "    <tr>\n",
       "      <th>4</th>\n",
       "      <td>dl_essi</td>\n",
       "      <td>public</td>\n",
       "      <td>qtsop10</td>\n",
       "      <td>BASE TABLE</td>\n",
       "      <td>None</td>\n",
       "      <td>None</td>\n",
       "      <td>None</td>\n",
       "      <td>None</td>\n",
       "      <td>None</td>\n",
       "      <td>YES</td>\n",
       "      <td>NO</td>\n",
       "      <td>None</td>\n",
       "    </tr>\n",
       "  </tbody>\n",
       "</table>\n",
       "</div>"
      ],
      "text/plain": [
       "  table_catalog table_schema table_name  table_type  \\\n",
       "0       dl_essi       public    ftsma10  BASE TABLE   \n",
       "1       dl_essi       public    cbeci10  BASE TABLE   \n",
       "2       dl_essi       public    cbecv10  BASE TABLE   \n",
       "3       dl_essi       public    hbmin10  BASE TABLE   \n",
       "4       dl_essi       public    qtsop10  BASE TABLE   \n",
       "\n",
       "  self_referencing_column_name reference_generation user_defined_type_catalog  \\\n",
       "0                         None                 None                      None   \n",
       "1                         None                 None                      None   \n",
       "2                         None                 None                      None   \n",
       "3                         None                 None                      None   \n",
       "4                         None                 None                      None   \n",
       "\n",
       "  user_defined_type_schema user_defined_type_name is_insertable_into is_typed  \\\n",
       "0                     None                   None                YES       NO   \n",
       "1                     None                   None                YES       NO   \n",
       "2                     None                   None                YES       NO   \n",
       "3                     None                   None                YES       NO   \n",
       "4                     None                   None                YES       NO   \n",
       "\n",
       "  commit_action  \n",
       "0          None  \n",
       "1          None  \n",
       "2          None  \n",
       "3          None  \n",
       "4          None  "
      ]
     },
     "execution_count": 96,
     "metadata": {},
     "output_type": "execute_result"
    }
   ],
   "source": [
    "columns.head()"
   ]
  },
  {
   "cell_type": "code",
   "execution_count": 106,
   "metadata": {},
   "outputs": [
    {
     "data": {
      "text/plain": [
       "(110, 4)"
      ]
     },
     "execution_count": 106,
     "metadata": {},
     "output_type": "execute_result"
    }
   ],
   "source": [
    "columns = columns.drop(['self_referencing_column_name', 'reference_generation', 'user_defined_type_catalog',\t'user_defined_type_schema',\t'user_defined_type_name', 'is_insertable_into',\t'is_typed', 'commit_action'], axis=1)\n",
    "columns.shape"
   ]
  },
  {
   "cell_type": "code",
   "execution_count": 107,
   "metadata": {},
   "outputs": [
    {
     "name": "stdout",
     "output_type": "stream",
     "text": [
      "    table_catalog table_schema    table_name  table_type\n",
      "0         dl_essi       public       ftsma10  BASE TABLE\n",
      "1         dl_essi       public       cbeci10  BASE TABLE\n",
      "2         dl_essi       public       cbecv10  BASE TABLE\n",
      "3         dl_essi       public       hbmin10  BASE TABLE\n",
      "4         dl_essi       public       qtsop10  BASE TABLE\n",
      "..            ...          ...           ...         ...\n",
      "105       dl_essi       public  mtatr10_2019  BASE TABLE\n",
      "106       dl_essi       public  mtatr10_2021  BASE TABLE\n",
      "107       dl_essi       public  mtatr10_2022  BASE TABLE\n",
      "108       dl_essi       public  mtatr10_2023  BASE TABLE\n",
      "109       dl_essi       public       mtdae10  BASE TABLE\n",
      "\n",
      "[110 rows x 4 columns]\n"
     ]
    }
   ],
   "source": [
    "print(columns)"
   ]
  },
  {
   "cell_type": "code",
   "execution_count": 108,
   "metadata": {},
   "outputs": [],
   "source": [
    "json_result = columns.to_json(orient='records')"
   ]
  },
  {
   "cell_type": "code",
   "execution_count": 110,
   "metadata": {},
   "outputs": [
    {
     "data": {
      "text/plain": [
       "'[{\"table_catalog\":\"dl_essi\",\"table_schema\":\"public\",\"table_name\":\"ftsma10\",\"table_type\":\"BASE TABLE\"},{\"table_catalog\":\"dl_essi\",\"table_schema\":\"public\",\"table_name\":\"cbeci10\",\"table_type\":\"BASE TABLE\"},{\"table_catalog\":\"dl_essi\",\"table_schema\":\"public\",\"table_name\":\"cbecv10\",\"table_type\":\"BASE TABLE\"},{\"table_catalog\":\"dl_essi\",\"table_schema\":\"public\",\"table_name\":\"hbmin10\",\"table_type\":\"BASE TABLE\"},{\"table_catalog\":\"dl_essi\",\"table_schema\":\"public\",\"table_name\":\"qtsop10\",\"table_type\":\"BASE TABLE\"},{\"table_catalog\":\"dl_essi\",\"table_schema\":\"public\",\"table_name\":\"htsin10\",\"table_type\":\"BASE TABLE\"},{\"table_catalog\":\"dl_essi\",\"table_schema\":\"public\",\"table_name\":\"htaho10\",\"table_type\":\"BASE TABLE\"},{\"table_catalog\":\"dl_essi\",\"table_schema\":\"public\",\"table_name\":\"ctppe10_2020\",\"table_type\":\"BASE TABLE\"},{\"table_catalog\":\"dl_essi\",\"table_schema\":\"public\",\"table_name\":\"ctppe10_2022\",\"table_type\":\"BASE TABLE\"},{\"table_catalog\":\"dl_essi\",\"table_schema\":\"public\",\"table_name\":\"qmcqx10\",\"table_type\":\"BASE TABLE\"},{\"table_catalog\":\"dl_essi\",\"table_schema\":\"public\",\"table_name\":\"qmane10\",\"table_type\":\"BASE TABLE\"},{\"table_catalog\":\"dl_essi\",\"table_schema\":\"public\",\"table_name\":\"qmcqs10\",\"table_type\":\"BASE TABLE\"},{\"table_catalog\":\"dl_essi\",\"table_schema\":\"public\",\"table_name\":\"qbdeq10\",\"table_type\":\"BASE TABLE\"},{\"table_catalog\":\"dl_essi\",\"table_schema\":\"public\",\"table_name\":\"qbesa10\",\"table_type\":\"BASE TABLE\"},{\"table_catalog\":\"dl_essi\",\"table_schema\":\"public\",\"table_name\":\"qbefi10\",\"table_type\":\"BASE TABLE\"},{\"table_catalog\":\"dl_essi\",\"table_schema\":\"public\",\"table_name\":\"qbeso10\",\"table_type\":\"BASE TABLE\"},{\"table_catalog\":\"dl_essi\",\"table_schema\":\"public\",\"table_name\":\"qbgcc10\",\"table_type\":\"BASE TABLE\"},{\"table_catalog\":\"dl_essi\",\"table_schema\":\"public\",\"table_name\":\"cmprs10\",\"table_type\":\"BASE TABLE\"},{\"table_catalog\":\"dl_essi\",\"table_schema\":\"public\",\"table_name\":\"cbpar10\",\"table_type\":\"BASE TABLE\"},{\"table_catalog\":\"dl_essi\",\"table_schema\":\"public\",\"table_name\":\"ctppe10\",\"table_type\":\"BASE TABLE\"},{\"table_catalog\":\"dl_essi\",\"table_schema\":\"public\",\"table_name\":\"mtadd10_2020\",\"table_type\":\"BASE TABLE\"},{\"table_catalog\":\"dl_essi\",\"table_schema\":\"public\",\"table_name\":\"mtadd10_2022\",\"table_type\":\"BASE TABLE\"},{\"table_catalog\":\"dl_essi\",\"table_schema\":\"public\",\"table_name\":\"mtadd10_2023\",\"table_type\":\"BASE TABLE\"},{\"table_catalog\":\"dl_essi\",\"table_schema\":\"public\",\"table_name\":\"qbmso10\",\"table_type\":\"BASE TABLE\"},{\"table_catalog\":\"dl_essi\",\"table_schema\":\"public\",\"table_name\":\"qbcep10\",\"table_type\":\"BASE TABLE\"},{\"table_catalog\":\"dl_essi\",\"table_schema\":\"public\",\"table_name\":\"qbpro10\",\"table_type\":\"BASE TABLE\"},{\"table_catalog\":\"dl_essi\",\"table_schema\":\"public\",\"table_name\":\"qbpso10\",\"table_type\":\"BASE TABLE\"},{\"table_catalog\":\"dl_essi\",\"table_schema\":\"public\",\"table_name\":\"qbriq10\",\"table_type\":\"BASE TABLE\"},{\"table_catalog\":\"dl_essi\",\"table_schema\":\"public\",\"table_name\":\"qbtho10\",\"table_type\":\"BASE TABLE\"},{\"table_catalog\":\"dl_essi\",\"table_schema\":\"public\",\"table_name\":\"mtatr10_2020\",\"table_type\":\"BASE TABLE\"},{\"table_catalog\":\"dl_essi\",\"table_schema\":\"public\",\"table_name\":\"ftsmd10\",\"table_type\":\"BASE TABLE\"},{\"table_catalog\":\"dl_essi\",\"table_schema\":\"public\",\"table_name\":\"ctppe10_2019\",\"table_type\":\"BASE TABLE\"},{\"table_catalog\":\"dl_essi\",\"table_schema\":\"public\",\"table_name\":\"cbcoc10\",\"table_type\":\"BASE TABLE\"},{\"table_catalog\":\"dl_essi\",\"table_schema\":\"public\",\"table_name\":\"cbepc10\",\"table_type\":\"BASE TABLE\"},{\"table_catalog\":\"dl_essi\",\"table_schema\":\"public\",\"table_name\":\"cbeps10\",\"table_type\":\"BASE TABLE\"},{\"table_catalog\":\"dl_essi\",\"table_schema\":\"public\",\"table_name\":\"cbgoc10\",\"table_type\":\"BASE TABLE\"},{\"table_catalog\":\"dl_essi\",\"table_schema\":\"public\",\"table_name\":\"cbmoc10\",\"table_type\":\"BASE TABLE\"},{\"table_catalog\":\"dl_essi\",\"table_schema\":\"public\",\"table_name\":\"cbmsp10\",\"table_type\":\"BASE TABLE\"},{\"table_catalog\":\"dl_essi\",\"table_schema\":\"public\",\"table_name\":\"ctppe10_2021\",\"table_type\":\"BASE TABLE\"},{\"table_catalog\":\"dl_essi\",\"table_schema\":\"public\",\"table_name\":\"ctppe10_2024\",\"table_type\":\"BASE TABLE\"},{\"table_catalog\":\"dl_essi\",\"table_schema\":\"public\",\"table_name\":\"ctsci10_2021\",\"table_type\":\"BASE TABLE\"},{\"table_catalog\":\"dl_essi\",\"table_schema\":\"public\",\"table_name\":\"hbeca10\",\"table_type\":\"BASE TABLE\"},{\"table_catalog\":\"dl_essi\",\"table_schema\":\"public\",\"table_name\":\"hbtca10\",\"table_type\":\"BASE TABLE\"},{\"table_catalog\":\"dl_essi\",\"table_schema\":\"public\",\"table_name\":\"cbraa10\",\"table_type\":\"BASE TABLE\"},{\"table_catalog\":\"dl_essi\",\"table_schema\":\"public\",\"table_name\":\"cbsex10\",\"table_type\":\"BASE TABLE\"},{\"table_catalog\":\"dl_essi\",\"table_schema\":\"public\",\"table_name\":\"cbtci10\",\"table_type\":\"BASE TABLE\"},{\"table_catalog\":\"dl_essi\",\"table_schema\":\"public\",\"table_name\":\"cbtdi10\",\"table_type\":\"BASE TABLE\"},{\"table_catalog\":\"dl_essi\",\"table_schema\":\"public\",\"table_name\":\"cbthp10\",\"table_type\":\"BASE TABLE\"},{\"table_catalog\":\"dl_essi\",\"table_schema\":\"public\",\"table_name\":\"cbtid10\",\"table_type\":\"BASE TABLE\"},{\"table_catalog\":\"dl_essi\",\"table_schema\":\"public\",\"table_name\":\"cbtpc10\",\"table_type\":\"BASE TABLE\"},{\"table_catalog\":\"dl_essi\",\"table_schema\":\"public\",\"table_name\":\"cbtpp10\",\"table_type\":\"BASE TABLE\"},{\"table_catalog\":\"dl_essi\",\"table_schema\":\"public\",\"table_name\":\"cmace10\",\"table_type\":\"BASE TABLE\"},{\"table_catalog\":\"dl_essi\",\"table_schema\":\"public\",\"table_name\":\"cmact10\",\"table_type\":\"BASE TABLE\"},{\"table_catalog\":\"dl_essi\",\"table_schema\":\"public\",\"table_name\":\"cmaho10\",\"table_type\":\"BASE TABLE\"},{\"table_catalog\":\"dl_essi\",\"table_schema\":\"public\",\"table_name\":\"cmcas10\",\"table_type\":\"BASE TABLE\"},{\"table_catalog\":\"dl_essi\",\"table_schema\":\"public\",\"table_name\":\"cmcon10\",\"table_type\":\"BASE TABLE\"},{\"table_catalog\":\"dl_essi\",\"table_schema\":\"public\",\"table_name\":\"cmcpp10\",\"table_type\":\"BASE TABLE\"},{\"table_catalog\":\"dl_essi\",\"table_schema\":\"public\",\"table_name\":\"cmdia10\",\"table_type\":\"BASE TABLE\"},{\"table_catalog\":\"dl_essi\",\"table_schema\":\"public\",\"table_name\":\"cmpac10\",\"table_type\":\"BASE TABLE\"},{\"table_catalog\":\"dl_essi\",\"table_schema\":\"public\",\"table_name\":\"cmper10\",\"table_type\":\"BASE TABLE\"},{\"table_catalog\":\"dl_essi\",\"table_schema\":\"public\",\"table_name\":\"cmras10\",\"table_type\":\"BASE TABLE\"},{\"table_catalog\":\"dl_essi\",\"table_schema\":\"public\",\"table_name\":\"cmsho10\",\"table_type\":\"BASE TABLE\"},{\"table_catalog\":\"dl_essi\",\"table_schema\":\"public\",\"table_name\":\"cmtse10\",\"table_type\":\"BASE TABLE\"},{\"table_catalog\":\"dl_essi\",\"table_schema\":\"public\",\"table_name\":\"ctaam10\",\"table_type\":\"BASE TABLE\"},{\"table_catalog\":\"dl_essi\",\"table_schema\":\"public\",\"table_name\":\"ctpco10_2019\",\"table_type\":\"BASE TABLE\"},{\"table_catalog\":\"dl_essi\",\"table_schema\":\"public\",\"table_name\":\"ctpco10_2020\",\"table_type\":\"BASE TABLE\"},{\"table_catalog\":\"dl_essi\",\"table_schema\":\"public\",\"table_name\":\"ctpco10_2021\",\"table_type\":\"BASE TABLE\"},{\"table_catalog\":\"dl_essi\",\"table_schema\":\"public\",\"table_name\":\"ctpco10_2022\",\"table_type\":\"BASE TABLE\"},{\"table_catalog\":\"dl_essi\",\"table_schema\":\"public\",\"table_name\":\"ctpco10_2023\",\"table_type\":\"BASE TABLE\"},{\"table_catalog\":\"dl_essi\",\"table_schema\":\"public\",\"table_name\":\"ctpco10_2024\",\"table_type\":\"BASE TABLE\"},{\"table_catalog\":\"dl_essi\",\"table_schema\":\"public\",\"table_name\":\"ctppe10_2023\",\"table_type\":\"BASE TABLE\"},{\"table_catalog\":\"dl_essi\",\"table_schema\":\"public\",\"table_name\":\"ctsci10_2019\",\"table_type\":\"BASE TABLE\"},{\"table_catalog\":\"dl_essi\",\"table_schema\":\"public\",\"table_name\":\"ctsci10_2020\",\"table_type\":\"BASE TABLE\"},{\"table_catalog\":\"dl_essi\",\"table_schema\":\"public\",\"table_name\":\"ctsci10_2022\",\"table_type\":\"BASE TABLE\"},{\"table_catalog\":\"dl_essi\",\"table_schema\":\"public\",\"table_name\":\"ctsci10_2023\",\"table_type\":\"BASE TABLE\"},{\"table_catalog\":\"dl_essi\",\"table_schema\":\"public\",\"table_name\":\"hbeph10\",\"table_type\":\"BASE TABLE\"},{\"table_catalog\":\"dl_essi\",\"table_schema\":\"public\",\"table_name\":\"hbooi10\",\"table_type\":\"BASE TABLE\"},{\"table_catalog\":\"dl_essi\",\"table_schema\":\"public\",\"table_name\":\"hmcam10\",\"table_type\":\"BASE TABLE\"},{\"table_catalog\":\"dl_essi\",\"table_schema\":\"public\",\"table_name\":\"hmese10\",\"table_type\":\"BASE TABLE\"},{\"table_catalog\":\"dl_essi\",\"table_schema\":\"public\",\"table_name\":\"htdah10\",\"table_type\":\"BASE TABLE\"},{\"table_catalog\":\"dl_essi\",\"table_schema\":\"public\",\"table_name\":\"hthod10\",\"table_type\":\"BASE TABLE\"},{\"table_catalog\":\"dl_essi\",\"table_schema\":\"public\",\"table_name\":\"hthos10\",\"table_type\":\"BASE TABLE\"},{\"table_catalog\":\"dl_essi\",\"table_schema\":\"public\",\"table_name\":\"mbacp10\",\"table_type\":\"BASE TABLE\"},{\"table_catalog\":\"dl_essi\",\"table_schema\":\"public\",\"table_name\":\"mbdat10\",\"table_type\":\"BASE TABLE\"},{\"table_catalog\":\"dl_essi\",\"table_schema\":\"public\",\"table_name\":\"mbegp10\",\"table_type\":\"BASE TABLE\"},{\"table_catalog\":\"dl_essi\",\"table_schema\":\"public\",\"table_name\":\"mbepe10\",\"table_type\":\"BASE TABLE\"},{\"table_catalog\":\"dl_essi\",\"table_schema\":\"public\",\"table_name\":\"mbmeg10\",\"table_type\":\"BASE TABLE\"},{\"table_catalog\":\"dl_essi\",\"table_schema\":\"public\",\"table_name\":\"mbpae10\",\"table_type\":\"BASE TABLE\"},{\"table_catalog\":\"dl_essi\",\"table_schema\":\"public\",\"table_name\":\"mbrai10\",\"table_type\":\"BASE TABLE\"},{\"table_catalog\":\"dl_essi\",\"table_schema\":\"public\",\"table_name\":\"mbtac10\",\"table_type\":\"BASE TABLE\"},{\"table_catalog\":\"dl_essi\",\"table_schema\":\"public\",\"table_name\":\"mbtae10\",\"table_type\":\"BASE TABLE\"},{\"table_catalog\":\"dl_essi\",\"table_schema\":\"public\",\"table_name\":\"mbtoe10\",\"table_type\":\"BASE TABLE\"},{\"table_catalog\":\"dl_essi\",\"table_schema\":\"public\",\"table_name\":\"mmeme10\",\"table_type\":\"BASE TABLE\"},{\"table_catalog\":\"dl_essi\",\"table_schema\":\"public\",\"table_name\":\"mtadd10_2019\",\"table_type\":\"BASE TABLE\"},{\"table_catalog\":\"dl_essi\",\"table_schema\":\"public\",\"table_name\":\"mtadd10_2021\",\"table_type\":\"BASE TABLE\"},{\"table_catalog\":\"dl_essi\",\"table_schema\":\"public\",\"table_name\":\"mtade10_2019\",\"table_type\":\"BASE TABLE\"},{\"table_catalog\":\"dl_essi\",\"table_schema\":\"public\",\"table_name\":\"mtade10_2020\",\"table_type\":\"BASE TABLE\"},{\"table_catalog\":\"dl_essi\",\"table_schema\":\"public\",\"table_name\":\"mtade10_2021\",\"table_type\":\"BASE TABLE\"},{\"table_catalog\":\"dl_essi\",\"table_schema\":\"public\",\"table_name\":\"mtade10_2022\",\"table_type\":\"BASE TABLE\"},{\"table_catalog\":\"dl_essi\",\"table_schema\":\"public\",\"table_name\":\"mtade10_2023\",\"table_type\":\"BASE TABLE\"},{\"table_catalog\":\"dl_essi\",\"table_schema\":\"public\",\"table_name\":\"mtaem10_2019\",\"table_type\":\"BASE TABLE\"},{\"table_catalog\":\"dl_essi\",\"table_schema\":\"public\",\"table_name\":\"mtaem10_2020\",\"table_type\":\"BASE TABLE\"},{\"table_catalog\":\"dl_essi\",\"table_schema\":\"public\",\"table_name\":\"mtaem10_2021\",\"table_type\":\"BASE TABLE\"},{\"table_catalog\":\"dl_essi\",\"table_schema\":\"public\",\"table_name\":\"mtaem10_2022\",\"table_type\":\"BASE TABLE\"},{\"table_catalog\":\"dl_essi\",\"table_schema\":\"public\",\"table_name\":\"mtaem10_2023\",\"table_type\":\"BASE TABLE\"},{\"table_catalog\":\"dl_essi\",\"table_schema\":\"public\",\"table_name\":\"mtatr10_2019\",\"table_type\":\"BASE TABLE\"},{\"table_catalog\":\"dl_essi\",\"table_schema\":\"public\",\"table_name\":\"mtatr10_2021\",\"table_type\":\"BASE TABLE\"},{\"table_catalog\":\"dl_essi\",\"table_schema\":\"public\",\"table_name\":\"mtatr10_2022\",\"table_type\":\"BASE TABLE\"},{\"table_catalog\":\"dl_essi\",\"table_schema\":\"public\",\"table_name\":\"mtatr10_2023\",\"table_type\":\"BASE TABLE\"},{\"table_catalog\":\"dl_essi\",\"table_schema\":\"public\",\"table_name\":\"mtdae10\",\"table_type\":\"BASE TABLE\"}]'"
      ]
     },
     "execution_count": 110,
     "metadata": {},
     "output_type": "execute_result"
    }
   ],
   "source": [
    "json_result"
   ]
  },
  {
   "cell_type": "code",
   "execution_count": 113,
   "metadata": {},
   "outputs": [
    {
     "ename": "TypeError",
     "evalue": "'str' object is not callable",
     "output_type": "error",
     "traceback": [
      "\u001b[1;31m---------------------------------------------------------------------------\u001b[0m",
      "\u001b[1;31mTypeError\u001b[0m                                 Traceback (most recent call last)",
      "Cell \u001b[1;32mIn[113], line 1\u001b[0m\n\u001b[1;32m----> 1\u001b[0m json_result(\u001b[39m2\u001b[39;49m)\n",
      "\u001b[1;31mTypeError\u001b[0m: 'str' object is not callable"
     ]
    }
   ],
   "source": [
    "json_result"
   ]
  }
 ],
 "metadata": {
  "kernelspec": {
   "display_name": "Python 3",
   "language": "python",
   "name": "python3"
  },
  "language_info": {
   "codemirror_mode": {
    "name": "ipython",
    "version": 3
   },
   "file_extension": ".py",
   "mimetype": "text/x-python",
   "name": "python",
   "nbconvert_exporter": "python",
   "pygments_lexer": "ipython3",
   "version": "3.11.1"
  },
  "orig_nbformat": 4
 },
 "nbformat": 4,
 "nbformat_minor": 2
}
